{
 "cells": [
  {
   "cell_type": "code",
   "execution_count": 1,
   "metadata": {},
   "outputs": [],
   "source": [
    "import numpy as np \n",
    "import pandas as pd \n",
    "import operator as op\n",
    "from functools import reduce\n",
    "import networkx as nx \n",
    "from networkx.drawing.nx_agraph import write_dot, graphviz_layout\n",
    "%matplotlib inline"
   ]
  },
  {
   "cell_type": "code",
   "execution_count": 2,
   "metadata": {},
   "outputs": [],
   "source": [
    "class utils:\n",
    "    def ncr(n, r):\n",
    "        r = min(r, n-r)\n",
    "        numer = reduce(op.mul, range(n, n-r, -1), 1)\n",
    "        denom = reduce(op.mul, range(1, r+1), 1)\n",
    "        return numer // denom\n",
    "\n",
    "    def easy(x):\n",
    "        return x.bit_length()"
   ]
  },
  {
   "cell_type": "code",
   "execution_count": 3,
   "metadata": {},
   "outputs": [],
   "source": [
    "class Node:\n",
    "\n",
    "    def __init__(self, data):\n",
    "\n",
    "        self.left = None\n",
    "        self.right = None\n",
    "        self.data = data\n",
    "        self.parent = None\n",
    "        self.category = None\n",
    "        self.level = 0\n",
    "    \n",
    "    def __str__(self):\n",
    "        return f'data: {self.data}'\n",
    "\n",
    "    def PreorderTraversal(self, root):\n",
    "        res = []\n",
    "        if root:\n",
    "            res.append(root.data)\n",
    "            res = res + self.PreorderTraversal(root.left)\n",
    "            res = res + self.PreorderTraversal(root.right)\n",
    "        return res\n",
    "    \n",
    "    def binary_representation(self, root):\n",
    "        result = ''\n",
    "        if root: \n",
    "            #if root.left == None:\n",
    "            #    result += '0' + root.data\n",
    "            #else:\n",
    "            if root.right == None: \n",
    "                result += '0'\n",
    "            else:\n",
    "                result += '1'\n",
    "            result += root.data\n",
    "            result = result + self.binary_representation(root.left)\n",
    "            result = result + self.binary_representation(root.right)\n",
    "        return result\n",
    "    \n",
    "    def get_leaves(self, root):\n",
    "        leaves = []\n",
    "        if root:\n",
    "            if root.right == None:\n",
    "                leaves.append(root)\n",
    "            leaves = leaves + self.get_leaves(root.left)\n",
    "            leaves = leaves + self.get_leaves(root.right)\n",
    "        return leaves\n",
    "    \n",
    "    def get_attr_and_category_from_leaf(self, root):\n",
    "        attr_and_category = []\n",
    "        while root.parent != None:\n",
    "            category = root.category\n",
    "            root = root.parent\n",
    "            attr_and_category.append([root.data, category])\n",
    "        attr_and_category = list(reversed(attr_and_category))\n",
    "        return attr_and_category\n",
    "        \n",
    "    def replace_leaf_with_decision_node(self, attribute, default_for_0, default_for_1):\n",
    "        self.data = attribute\n",
    "        self.left = Node(default_for_0)\n",
    "        self.left.parent = self\n",
    "        self.left.category = 0\n",
    "        self.left.level = self.level+1\n",
    "        self.right = Node(default_for_1)\n",
    "        self.right.parent = self\n",
    "        self.right.category = 1\n",
    "        self.right.level = self.level+1 \n",
    "    \n",
    "    def replace_decision_node_with_leaf(self, default):\n",
    "        self.data = default\n",
    "        self.left = None\n",
    "        self.right = None\n",
    "    \n",
    "    def plot(self,root):\n",
    "        G = nx.DiGraph()\n",
    "         # Base CAse  \n",
    "        if root is None: \n",
    "            return \n",
    "\n",
    "        # create an empty stack and push root to it \n",
    "        nodeStack = [] \n",
    "        nodeStack.append(root) \n",
    "\n",
    "        #  Pop all items one by one. Do following for every popped item \n",
    "        #   a) print it \n",
    "        #   b) push its right child \n",
    "        #   c) push its left child \n",
    "        # Note that right child is pushed first so that left \n",
    "        # is processed first */ \n",
    "        while(len(nodeStack) > 0): \n",
    "\n",
    "            # Pop the top item from stack and print it \n",
    "            node = nodeStack.pop() \n",
    "            label = str(node.level) + ' ' + node.data\n",
    "            G.add_node(label) \n",
    "            if node.parent != None:\n",
    "                parent_label = str(node.parent.level) + ' ' + node.parent.data\n",
    "                G.add_edge(parent_label, label)\n",
    "\n",
    "            # Push right and left children of the popped node \n",
    "            # to stack \n",
    "            if node.right is not None: \n",
    "                nodeStack.append(node.right) \n",
    "            if node.left is not None: \n",
    "                nodeStack.append(node.left) \n",
    "        #pos = graphviz_layout(G, prog='dot')\n",
    "        #plot = nx.draw(G, pos, with_labels=False, arrows=True)\n",
    "        plot = nx.draw_spring(G, with_labels=True)\n",
    "        return plot"
   ]
  },
  {
   "cell_type": "code",
   "execution_count": 4,
   "metadata": {},
   "outputs": [],
   "source": [
    "class DecisionTree:\n",
    "    \n",
    "    \n",
    "    def __init__(self):\n",
    "        self.X = None\n",
    "        \n",
    "        self.Y = None\n",
    "        \n",
    "        self.tree = None\n",
    "        self.encode_dict = None\n",
    "        \n",
    "    def fit(self, X, Y):\n",
    "        count = 0\n",
    "        # building tree: start\n",
    "        if type(X) == pd.DataFrame and type(Y) == pd.DataFrame:\n",
    "            X = X.values\n",
    "            Y = Y.values\n",
    "        self.X = X\n",
    "        self.Y = Y\n",
    "        \n",
    "        default = DecisionTree.median(self.Y)\n",
    "\n",
    "        self.tree = Node(default)\n",
    "        self.leaf_amount = len(self.tree.get_leaves(self.tree))\n",
    "        \n",
    "        #(not self.is_perfect) and\n",
    "        will_continue = False\n",
    "        perfect_leaves = []\n",
    "        while self.leaf_amount < pow(2, self.X.shape[1]):\n",
    "            \n",
    "            # find unused attributes\n",
    "            for _leaf in self.tree.get_leaves(self.tree):\n",
    "                if _leaf not in perfect_leaves:\n",
    "                    leaf = _leaf\n",
    "                    break\n",
    "            if leaf == None:\n",
    "                break\n",
    "            try:\n",
    "                used_attr_and_category_list = leaf.get_attr_and_category_from_leaf(leaf)\n",
    "                used_binary_attr_list = list(np.array(used_attr_and_category_list)[:,0])\n",
    "                used_attr_list = self.decode(used_binary_attr_list)\n",
    "                temp = np.array(used_attr_and_category_list)\n",
    "                temp[:,0] = used_attr_list\n",
    "                temp = temp.astype(int)\n",
    "                used_attr_and_category_list = list(temp)\n",
    "            except:\n",
    "                used_attr_list = []\n",
    "            unused_attr_list = self.get_unused_attributes_from_used_attributes(used_attr_list)\n",
    "            \n",
    "            default = leaf.data\n",
    "            cost_list = []\n",
    "            for unused_attr in unused_attr_list:\n",
    "                # calculate defaults\n",
    "                default_0, default_1 = self.get_default_0_and_1(used_attr_and_category_list, unused_attr)\n",
    "                if default_0 == '-1' or default_1 == '-1':\n",
    "                    perfect_leaves.append(leaf)\n",
    "                    leaf = None\n",
    "                    will_continue = True\n",
    "                    break\n",
    "                binary_attr = self.encode([*used_attr_list, unused_attr]).pop()\n",
    "                leaf.replace_leaf_with_decision_node(binary_attr, default_0, default_1)\n",
    "                cost = self.total_cost()\n",
    "                cost_list.append(cost)\n",
    "                leaf.replace_decision_node_with_leaf(default)\n",
    "            if will_continue:\n",
    "                will_continue = False\n",
    "                continue\n",
    "            if cost_list == []:\n",
    "                perfect_leaves.append(leaf)\n",
    "                continue\n",
    "            min_index = np.argmin(cost_list)\n",
    "            min_attr = unused_attr_list[min_index]\n",
    "            # REFACTOR THIS \n",
    "            default_0, default_1 = self.get_default_0_and_1(used_attr_and_category_list, min_attr)\n",
    "            binary_attr = self.encode([*used_attr_list, min_attr]).pop()\n",
    "            leaf.replace_leaf_with_decision_node(binary_attr, default_0, default_1)\n",
    "            self.leaf_amount = len(self.tree.get_leaves(self.tree))\n",
    "            leaf = None\n",
    "        # building tree: end\n",
    "        # pruning tree: start\n",
    "        will_not_prune = []\n",
    "        first_parent = None\n",
    "        while len(will_not_prune) < self.leaf_amount / 2:\n",
    "            leaves = self.tree.get_leaves(self.tree)\n",
    "            for _leaf in leaves:\n",
    "                if _leaf.parent not in will_not_prune:\n",
    "                    if _leaf.parent.left in leaves and _leaf.parent.right in leaves:\n",
    "                        leaf = _leaf\n",
    "            if leaf == None:\n",
    "                print('gracefully exiting')\n",
    "                break\n",
    "                    \n",
    "            parent = leaf.parent\n",
    "            left_child_data = parent.left.data\n",
    "            right_child_data = parent.right.data\n",
    "            parent_data = parent.data\n",
    "            current_cost = self.total_cost()\n",
    "            parent_used_attr_and_category_list = parent.get_attr_and_category_from_leaf(parent)\n",
    "            if parent_used_attr_and_category_list == []:\n",
    "                will_not_prune.append(parent)\n",
    "                continue\n",
    "            used_binary_attr_list = list(np.array(parent_used_attr_and_category_list)[:,0])\n",
    "            used_attr_list = self.decode(used_binary_attr_list)\n",
    "            temp = np.array(parent_used_attr_and_category_list)\n",
    "            temp[:,0] = used_attr_list\n",
    "            temp = temp.astype(int)\n",
    "            parent_used_attr_and_category_list = list(temp)\n",
    "            default = self.get_default(parent_used_attr_and_category_list)\n",
    "            parent.replace_decision_node_with_leaf(default)\n",
    "            new_cost = self.total_cost()\n",
    "            if new_cost < current_cost:\n",
    "                print(new_cost, current_cost, 'succesfully pruned')\n",
    "            else:\n",
    "                parent.replace_leaf_with_decision_node(parent_data, left_child_data, right_child_data)\n",
    "                will_not_prune.append(parent)\n",
    "            self.leaf_amount = len(self.tree.get_leaves(self.tree))\n",
    "            leaf = None\n",
    "        # pruning tree: end\n",
    "        print('Exited while loop')\n",
    "        \n",
    "    def get_default_0_and_1(self, used_attr_and_category_list, unused_attr):\n",
    "        filtr = self.get_filter_from_attr_and_category(used_attr_and_category_list)\n",
    "        filtr_0, filtr_1 = self.unused_attribute_filters(filtr, unused_attr)\n",
    "        default_0 = DecisionTree.median(self.Y[filtr_0])\n",
    "        default_1 = DecisionTree.median(self.Y[filtr_1])\n",
    "        return default_0, default_1\n",
    "    \n",
    "    def get_default(self, used_attr_and_category_list):\n",
    "        filtr = self.get_filter_from_attr_and_category(used_attr_and_category_list)\n",
    "        default = DecisionTree.median(self.Y[filtr])\n",
    "        return default\n",
    "                \n",
    "    def get_filter_from_attr_and_category(self, attr_and_category):\n",
    "        filtr = np.full(self.X.shape[0], True, dtype=bool)\n",
    "        for attr, category in attr_and_category:\n",
    "            filtr = filtr & (self.X[:, attr] == category)\n",
    "        return filtr\n",
    "    \n",
    "    def unused_attribute_filters(self, filtr,  unused_attr):\n",
    "        filtr_0 = filtr & (self.X[:, unused_attr] == 0)\n",
    "        filtr_1 = filtr & (self.X[:, unused_attr] == 1)\n",
    "        return filtr_0 , filtr_1\n",
    "    \n",
    "    def communication_cost(self):\n",
    "        # Dict {00: sunny, 01: warm, 10: cold, 11: freezing,  001:burning}\n",
    "        # cost of attribute names\n",
    "        # decision node indication\n",
    "        # leave indication\n",
    "        # default class\n",
    "        return len(self.tree.binary_representation(self.tree))\n",
    "    \n",
    "    @staticmethod\n",
    "    def exception_cost(n, k):\n",
    "        # use ceil\n",
    "        n = n\n",
    "        k = k\n",
    "        b = (n+1) / 2\n",
    "        bit_amount_for_k = np.ceil(np.log2(b+1))\n",
    "        #bit_amount_for_exception_location = np.ceil(np.log2(np.math.factorial(n) / (np.math.factorial(k) * np.math.factorial(n-k))))\n",
    "        bit_amount_for_exception_location = utils.easy(utils.ncr(n,k))\n",
    "        return bit_amount_for_k + bit_amount_for_exception_location\n",
    "    \n",
    "    def total_exception_cost(self):\n",
    "        total_exception_cost = 0\n",
    "        for leaf in self.tree.get_leaves(self.tree):\n",
    "            \n",
    "            used_attr_and_category_list = leaf.get_attr_and_category_from_leaf(leaf)\n",
    "            used_binary_attr_list = list(np.array(used_attr_and_category_list)[:,0])\n",
    "            used_attr_list = self.decode(used_binary_attr_list)\n",
    "            temp = np.array(used_attr_and_category_list)\n",
    "            temp[:,0] = used_attr_list\n",
    "            temp = temp.astype(int)\n",
    "            used_attr_and_category_list = list(temp)\n",
    "            filtr = self.get_filter_from_attr_and_category(used_attr_and_category_list)\n",
    "            n = self.Y[filtr].shape[0]\n",
    "            median = np.median(self.Y[filtr])\n",
    "            if median == 0.5:\n",
    "                median = np.random.choice([0,1])\n",
    "            exception = 1 - median\n",
    "            k = self.Y[filtr][self.Y[filtr] == exception].shape[0]\n",
    "            exception_cost = DecisionTree.exception_cost(n,k)\n",
    "            total_exception_cost += exception_cost\n",
    "        return total_exception_cost\n",
    "    \n",
    "    def total_cost(self):\n",
    "        return self.communication_cost() + self.total_exception_cost()\n",
    "    \n",
    "    def encode(self, actual_attribute_indexes):\n",
    "        relative_binary_attribute_indexes = []\n",
    "        used_indexes = []\n",
    "        unused_attribute_amount = self.X.shape[1] - len(actual_attribute_indexes)\n",
    "        for i, value in enumerate(actual_attribute_indexes):\n",
    "            how_many_smaller = len([j for j in used_indexes if j < value])\n",
    "            used_indexes.append(actual_attribute_indexes[i])\n",
    "            relative_binary_attribute_indexes.append(\n",
    "                DecisionTree.integer_to_binary(\n",
    "                    actual_attribute_indexes[i] - how_many_smaller,\n",
    "                    DecisionTree.min_bit_amount(len(actual_attribute_indexes) - i + unused_attribute_amount)))\n",
    "        return relative_binary_attribute_indexes\n",
    "    \n",
    "    def decode(self, binary_indexes):\n",
    "        relative_indexes = []\n",
    "        for index in binary_indexes:\n",
    "            relative_indexes.append(DecisionTree.binary_to_integer(index))\n",
    "        return self.get_actual_attribute_indexes(relative_indexes)\n",
    "\n",
    "    def is_perfect(self):\n",
    "        return np.all(np.equal(Y, self.predict(self.X)))\n",
    "    \n",
    "    def predict(self, X):\n",
    "        Y_head = []\n",
    "        if type(X) == pd.DataFrame and type(Y) == pd.DataFrame:\n",
    "            X = X.values\n",
    "        leaves = self.tree.get_leaves(self.tree)\n",
    "        for row in X:\n",
    "            root = self.tree\n",
    "            _X = X.copy()\n",
    "            while root not in leaves:\n",
    "                binary_attr = root.data\n",
    "                attr = self.decode([binary_attr])[0]\n",
    "                switch = row[attr]\n",
    "                if switch == 0:\n",
    "                    root = root.left\n",
    "                if switch == 1:\n",
    "                    root = root.right\n",
    "                #print('attr:', attr)\n",
    "                #print('switch:', switch)\n",
    "            row_prediction = root.data\n",
    "            Y_head.append(row_prediction)\n",
    "        return np.array(Y_head).astype(int)\n",
    "            \n",
    "            \n",
    "        # returns Y_head\n",
    "        pass\n",
    "    \n",
    "    \n",
    "    def get_actual_attribute_indexes(self, currently_used_attributes):        \n",
    "        actual_used_attribute_indexes= []\n",
    "        temporary_attribute_indexes= list(range(self.X.shape[1]))\n",
    "        for i in range(len(currently_used_attributes)):            \n",
    "            actual_used_attribute_indexes.append(temporary_attribute_indexes[currently_used_attributes[i]])\n",
    "            del temporary_attribute_indexes[currently_used_attributes[i]]\n",
    "        return actual_used_attribute_indexes\n",
    "    \n",
    "    def get_relative_attribute_indexes(self, attribute_indexes):\n",
    "        pass\n",
    "    \n",
    "    def get_unused_attributes_from_used_attributes(self, used_attributes):\n",
    "        attr_amount = self.X.shape[1]\n",
    "        attr_list = range(attr_amount)\n",
    "        unused_attr_list = [i for i in attr_list if i not in used_attributes]\n",
    "        return unused_attr_list\n",
    "        \n",
    "    @staticmethod\n",
    "    def binary_to_integer(binary_value):\n",
    "        return int(binary_value,2) \n",
    "\n",
    "    @staticmethod\n",
    "    def is_power2(num):\n",
    "    # states if a number is a power of two\n",
    "\n",
    "        return num != 0 and ((num & (num - 1)) == 0)\n",
    "    @staticmethod\n",
    "    def integer_to_binary(integer_value, code_length):\n",
    "        return np.binary_repr(integer_value, width=code_length)\n",
    "    \n",
    "    \n",
    "    @staticmethod\n",
    "    def min_bit_amount(num):\n",
    "        x = 1\n",
    "        while pow(2, x) < num:\n",
    "            x += 1\n",
    "        return x\n",
    "    \n",
    "    @staticmethod\n",
    "    def median(array):\n",
    "        median = np.median(array)\n",
    "        if median == 0.5:\n",
    "            median = np.random.choice([0,1])\n",
    "        try:\n",
    "            median = str(int(median))\n",
    "        except: \n",
    "            median = str(-1)\n",
    "        return median\n",
    "    \n",
    "    def acc_score(self, Y, Y_head):\n",
    "        return (Y_head == Y).sum() / Y_head.shape[0]\n",
    "        \n",
    "    def plot(self):\n",
    "        pass\n",
    "        "
   ]
  },
  {
   "cell_type": "code",
   "execution_count": 5,
   "metadata": {},
   "outputs": [],
   "source": [
    "row_amount = 50000\n",
    "train_split = int(row_amount * 0.7)\n",
    "feature_amount = 6\n",
    "X = np.random.randint(0,2,(row_amount,feature_amount))\n",
    "Y = X.sum(axis=1)\n",
    "Y[Y < feature_amount/3], Y[Y >= feature_amount/3] = 1, 0 \n",
    "#Y = np.random.randint(0,2,(row_amount,1))\n",
    "Z = np.random.randint(0,2,(row_amount // 4,feature_amount))"
   ]
  },
  {
   "cell_type": "code",
   "execution_count": 6,
   "metadata": {},
   "outputs": [],
   "source": [
    "tree = DecisionTree()"
   ]
  },
  {
   "cell_type": "code",
   "execution_count": 7,
   "metadata": {},
   "outputs": [
    {
     "name": "stdout",
     "output_type": "stream",
     "text": [
      "895.0 908.0 succesfully pruned\n",
      "882.0 895.0 succesfully pruned\n",
      "868.0 882.0 succesfully pruned\n",
      "855.0 868.0 succesfully pruned\n",
      "843.0 855.0 succesfully pruned\n",
      "829.0 843.0 succesfully pruned\n",
      "813.0 829.0 succesfully pruned\n",
      "800.0 813.0 succesfully pruned\n",
      "787.0 800.0 succesfully pruned\n",
      "773.0 787.0 succesfully pruned\n",
      "760.0 773.0 succesfully pruned\n",
      "747.0 760.0 succesfully pruned\n",
      "733.0 747.0 succesfully pruned\n",
      "717.0 733.0 succesfully pruned\n",
      "700.0 717.0 succesfully pruned\n",
      "687.0 700.0 succesfully pruned\n",
      "674.0 687.0 succesfully pruned\n",
      "660.0 674.0 succesfully pruned\n",
      "647.0 660.0 succesfully pruned\n",
      "634.0 647.0 succesfully pruned\n",
      "620.0 634.0 succesfully pruned\n",
      "604.0 620.0 succesfully pruned\n",
      "591.0 604.0 succesfully pruned\n",
      "578.0 591.0 succesfully pruned\n",
      "564.0 578.0 succesfully pruned\n",
      "551.0 564.0 succesfully pruned\n",
      "538.0 551.0 succesfully pruned\n",
      "525.0 538.0 succesfully pruned\n",
      "511.0 525.0 succesfully pruned\n",
      "498.0 511.0 succesfully pruned\n",
      "485.0 498.0 succesfully pruned\n",
      "471.0 485.0 succesfully pruned\n",
      "455.0 471.0 succesfully pruned\n",
      "443.0 455.0 succesfully pruned\n",
      "430.0 443.0 succesfully pruned\n",
      "416.0 430.0 succesfully pruned\n",
      "403.0 416.0 succesfully pruned\n",
      "390.0 403.0 succesfully pruned\n",
      "377.0 390.0 succesfully pruned\n",
      "363.0 377.0 succesfully pruned\n",
      "350.0 363.0 succesfully pruned\n",
      "337.0 350.0 succesfully pruned\n",
      "324.0 337.0 succesfully pruned\n",
      "gracefully exiting\n",
      "Exited while loop\n"
     ]
    }
   ],
   "source": [
    "tree.fit(X[:train_split], Y[:train_split])"
   ]
  },
  {
   "cell_type": "code",
   "execution_count": 8,
   "metadata": {},
   "outputs": [
    {
     "data": {
      "text/plain": [
       "'10011000110101100110010011100100001011110010000001001101010010000000010101001001010010000000000'"
      ]
     },
     "execution_count": 8,
     "metadata": {},
     "output_type": "execute_result"
    }
   ],
   "source": [
    "tree.tree.binary_representation(tree.tree)"
   ]
  },
  {
   "cell_type": "code",
   "execution_count": 9,
   "metadata": {},
   "outputs": [
    {
     "data": {
      "text/plain": [
       "array([0, 0, 0, ..., 0, 1, 0])"
      ]
     },
     "execution_count": 9,
     "metadata": {},
     "output_type": "execute_result"
    }
   ],
   "source": [
    "predictions = tree.predict(Z)\n",
    "predictions"
   ]
  },
  {
   "cell_type": "code",
   "execution_count": 10,
   "metadata": {},
   "outputs": [
    {
     "data": {
      "text/plain": [
       "array([0, 1, 1, ..., 0, 0, 0])"
      ]
     },
     "execution_count": 10,
     "metadata": {},
     "output_type": "execute_result"
    }
   ],
   "source": [
    "predictions = tree.predict(X[train_split:])\n",
    "predictions"
   ]
  },
  {
   "cell_type": "code",
   "execution_count": 11,
   "metadata": {},
   "outputs": [
    {
     "data": {
      "text/plain": [
       "15000"
      ]
     },
     "execution_count": 11,
     "metadata": {},
     "output_type": "execute_result"
    }
   ],
   "source": [
    "predictions.shape[0]"
   ]
  },
  {
   "cell_type": "code",
   "execution_count": 12,
   "metadata": {},
   "outputs": [
    {
     "data": {
      "text/plain": [
       "0.7093333333333334"
      ]
     },
     "execution_count": 12,
     "metadata": {},
     "output_type": "execute_result"
    }
   ],
   "source": [
    "(predictions == Y[train_split:]).sum() / predictions.shape[0]"
   ]
  },
  {
   "cell_type": "code",
   "execution_count": 13,
   "metadata": {},
   "outputs": [],
   "source": [
    "from sklearn.metrics import accuracy_score"
   ]
  },
  {
   "cell_type": "code",
   "execution_count": 14,
   "metadata": {},
   "outputs": [
    {
     "data": {
      "text/plain": [
       "0.7093333333333334"
      ]
     },
     "execution_count": 14,
     "metadata": {},
     "output_type": "execute_result"
    }
   ],
   "source": [
    "accuracy_score(Y[train_split:], predictions)"
   ]
  },
  {
   "cell_type": "code",
   "execution_count": 15,
   "metadata": {},
   "outputs": [
    {
     "data": {
      "text/plain": [
       "0.7093333333333334"
      ]
     },
     "execution_count": 15,
     "metadata": {},
     "output_type": "execute_result"
    }
   ],
   "source": [
    "tree.acc_score(Y[train_split:], predictions)"
   ]
  },
  {
   "cell_type": "code",
   "execution_count": 16,
   "metadata": {},
   "outputs": [
    {
     "data": {
      "image/png": "[encoded data removed]",
      "text/plain": [
       "<Figure size 432x288 with 1 Axes>"
      ]
     },
     "metadata": {},
     "output_type": "display_data"
    }
   ],
   "source": [
    "tree.tree.plot(tree.tree)"
   ]
  },
  {
   "cell_type": "code",
   "execution_count": null,
   "metadata": {},
   "outputs": [],
   "source": []
  },
  {
   "cell_type": "code",
   "execution_count": null,
   "metadata": {},
   "outputs": [],
   "source": []
  },
  {
   "cell_type": "code",
   "execution_count": null,
   "metadata": {},
   "outputs": [],
   "source": []
  }
 ],
 "metadata": {
  "kernelspec": {
   "display_name": "Python 3",
   "language": "python",
   "name": "python3"
  },
  "language_info": {
   "codemirror_mode": {
    "name": "ipython",
    "version": 3
   },
   "file_extension": ".py",
   "mimetype": "text/x-python",
   "name": "python",
   "nbconvert_exporter": "python",
   "pygments_lexer": "ipython3",
   "version": "3.6.7"
  }
 },
 "nbformat": 4,
 "nbformat_minor": 2
}
